{
  "nbformat": 4,
  "nbformat_minor": 0,
  "metadata": {
    "colab": {
      "name": "SVM - Competencia.ipynb",
      "provenance": [],
      "collapsed_sections": [],
      "toc_visible": true
    },
    "kernelspec": {
      "display_name": "Python 3",
      "name": "python3"
    },
    "language_info": {
      "name": "python"
    }
  },
  "cells": [
    {
      "cell_type": "markdown",
      "metadata": {
        "id": "4U5qlu79wHEo"
      },
      "source": [
        "#Librerías\n",
        "\n",
        "---\n",
        "Carga de librerías\n"
      ]
    },
    {
      "cell_type": "code",
      "metadata": {
        "colab": {
          "base_uri": "https://localhost:8080/"
        },
        "id": "5kT5pZN49WNw",
        "outputId": "f350bf36-ec05-4381-ed82-2f1d231edf5a"
      },
      "source": [
        "import numpy as np\n",
        "import pandas as pd\n",
        "from sklearn.model_selection import train_test_split\n",
        "from collections import Counter\n",
        "from sklearn.feature_extraction.text import CountVectorizer, TfidfTransformer\n",
        "from sklearn.neural_network import MLPClassifier\n",
        "from sklearn.linear_model import SGDClassifier\n",
        "from sklearn.svm import LinearSVC\n",
        "from sklearn.model_selection import RandomizedSearchCV, ShuffleSplit\n",
        "from sklearn.pipeline import Pipeline\n",
        "from sklearn.metrics import classification_report\n",
        "from sklearn.metrics import confusion_matrix\n",
        "import matplotlib.pyplot as plt\n",
        "import seaborn as sns\n",
        "import nltk\n",
        "nltk.download('punkt')\n",
        "nltk.download('wordnet')\n",
        "nltk.download('stopwords')\n",
        "nltk.download('averaged_perceptron_tagger')\n",
        "from nltk.tokenize import word_tokenize\n",
        "from nltk.stem import PorterStemmer, WordNetLemmatizer\n",
        "from nltk.corpus import stopwords\n",
        "from string import punctuation\n",
        "import pickle"
      ],
      "execution_count": null,
      "outputs": [
        {
          "output_type": "stream",
          "name": "stdout",
          "text": [
            "[nltk_data] Downloading package punkt to /root/nltk_data...\n",
            "[nltk_data]   Unzipping tokenizers/punkt.zip.\n",
            "[nltk_data] Downloading package wordnet to /root/nltk_data...\n",
            "[nltk_data]   Unzipping corpora/wordnet.zip.\n",
            "[nltk_data] Downloading package stopwords to /root/nltk_data...\n",
            "[nltk_data]   Unzipping corpora/stopwords.zip.\n",
            "[nltk_data] Downloading package averaged_perceptron_tagger to\n",
            "[nltk_data]     /root/nltk_data...\n",
            "[nltk_data]   Unzipping taggers/averaged_perceptron_tagger.zip.\n"
          ]
        }
      ]
    },
    {
      "cell_type": "code",
      "metadata": {
        "colab": {
          "base_uri": "https://localhost:8080/"
        },
        "id": "0JtcwbE4zTMm",
        "outputId": "78d7c4d3-fb83-4b99-d981-f5853fd677d4"
      },
      "source": [
        "# Load the Drive helper and mount\n",
        "from google.colab import drive\n",
        "\n",
        "# This will prompt for authorization.\n",
        "drive.mount('/content/drive', force_remount = True)"
      ],
      "execution_count": null,
      "outputs": [
        {
          "output_type": "stream",
          "name": "stdout",
          "text": [
            "Mounted at /content/drive\n"
          ]
        }
      ]
    },
    {
      "cell_type": "code",
      "metadata": {
        "id": "exiJCvDOOVK0"
      },
      "source": [
        "\n",
        "%cd /content/drive/My Drive/Redes Neuronales\n",
        "\n",
        "!ls"
      ],
      "execution_count": null,
      "outputs": []
    },
    {
      "cell_type": "markdown",
      "metadata": {
        "id": "nspr7ht3-0pj"
      },
      "source": [
        "#Carga de datos\n",
        "\n",
        "---\n",
        "Esta sección comprende la carga de datos train_data, valid_data y test_data. Se analizó la proporción de los 3 subsets, se decidió unir el subset de train y el de validación, para luego aumentar la proporción de datos para validación a un 20 %.\n"
      ]
    },
    {
      "cell_type": "code",
      "metadata": {
        "id": "uwbvOu7K0VNU"
      },
      "source": [
        "df_train = pd.read_hdf(\"train_data.hdf5\")\n",
        "df_valid = pd.read_hdf(\"valid_data.hdf5\")\n",
        "df_test = pd.read_hdf(\"test_data.hdf5\")"
      ],
      "execution_count": null,
      "outputs": []
    },
    {
      "cell_type": "code",
      "metadata": {
        "colab": {
          "base_uri": "https://localhost:8080/"
        },
        "id": "Ex-8vVdqKdnF",
        "outputId": "cb591c87-ba8a-4128-93f7-91ab3a5f088d"
      },
      "source": [
        "#Proporción de los 3 subsets\n",
        "n_train = len(df_train)\n",
        "n_val = len(df_valid)\n",
        "n_test=len(df_test)\n",
        "\n",
        "print(\"El \", 100*n_train/(n_train+n_val+n_test), \"% de los datos del dataset conforman el subset TRAIN.\")\n",
        "print(\"El \", 100*n_val/(n_train+n_val+n_test), \"% de los datos del dataset conforman el subset VALIDATION.\")\n",
        "print(\"El \", 100*n_test/(n_train+n_val+n_test), \"% de los datos del dataset conforman el subset TEST.\")"
      ],
      "execution_count": null,
      "outputs": [
        {
          "output_type": "stream",
          "name": "stdout",
          "text": [
            "El  96.54396142227252 % de los datos del dataset conforman el subset TRAIN.\n",
            "El  1.7296009194545834 % de los datos del dataset conforman el subset VALIDATION.\n",
            "El  1.7264376582728946 % de los datos del dataset conforman el subset TEST.\n"
          ]
        }
      ]
    },
    {
      "cell_type": "code",
      "metadata": {
        "colab": {
          "base_uri": "https://localhost:8080/",
          "height": 423
        },
        "id": "6HgXjICmxI4F",
        "outputId": "7b5cb750-41ef-4b20-9351-a7666069fa4d"
      },
      "source": [
        "df_train.reset_index(drop=True, inplace=True)\n",
        "df_valid.reset_index(drop=True, inplace = True)\n",
        "df_test.reset_index(drop=True, inplace = True)\n",
        "df_train"
      ],
      "execution_count": null,
      "outputs": [
        {
          "output_type": "execute_result",
          "data": {
            "text/html": [
              "<div>\n",
              "<style scoped>\n",
              "    .dataframe tbody tr th:only-of-type {\n",
              "        vertical-align: middle;\n",
              "    }\n",
              "\n",
              "    .dataframe tbody tr th {\n",
              "        vertical-align: top;\n",
              "    }\n",
              "\n",
              "    .dataframe thead th {\n",
              "        text-align: right;\n",
              "    }\n",
              "</style>\n",
              "<table border=\"1\" class=\"dataframe\">\n",
              "  <thead>\n",
              "    <tr style=\"text-align: right;\">\n",
              "      <th></th>\n",
              "      <th>gold_label</th>\n",
              "      <th>text</th>\n",
              "    </tr>\n",
              "  </thead>\n",
              "  <tbody>\n",
              "    <tr>\n",
              "      <th>0</th>\n",
              "      <td>contradiction</td>\n",
              "      <td>they are inside of a house</td>\n",
              "    </tr>\n",
              "    <tr>\n",
              "      <th>1</th>\n",
              "      <td>entailment</td>\n",
              "      <td>two guys are in a yard</td>\n",
              "    </tr>\n",
              "    <tr>\n",
              "      <th>2</th>\n",
              "      <td>neutral</td>\n",
              "      <td>They are doing yardwork</td>\n",
              "    </tr>\n",
              "    <tr>\n",
              "      <th>3</th>\n",
              "      <td>contradiction</td>\n",
              "      <td>A man is swimming.</td>\n",
              "    </tr>\n",
              "    <tr>\n",
              "      <th>4</th>\n",
              "      <td>entailment</td>\n",
              "      <td>Two young white men are near some bushes.</td>\n",
              "    </tr>\n",
              "    <tr>\n",
              "      <th>...</th>\n",
              "      <td>...</td>\n",
              "      <td>...</td>\n",
              "    </tr>\n",
              "    <tr>\n",
              "      <th>549362</th>\n",
              "      <td>entailment</td>\n",
              "      <td>A family gathers around to play a video game</td>\n",
              "    </tr>\n",
              "    <tr>\n",
              "      <th>549363</th>\n",
              "      <td>neutral</td>\n",
              "      <td>A family enjoys the Christmas as they gather t...</td>\n",
              "    </tr>\n",
              "    <tr>\n",
              "      <th>549364</th>\n",
              "      <td>contradiction</td>\n",
              "      <td>Video games tear families apart.</td>\n",
              "    </tr>\n",
              "    <tr>\n",
              "      <th>549365</th>\n",
              "      <td>entailment</td>\n",
              "      <td>Video games bring families together.</td>\n",
              "    </tr>\n",
              "    <tr>\n",
              "      <th>549366</th>\n",
              "      <td>neutral</td>\n",
              "      <td>Action video games bring families together.</td>\n",
              "    </tr>\n",
              "  </tbody>\n",
              "</table>\n",
              "<p>549367 rows × 2 columns</p>\n",
              "</div>"
            ],
            "text/plain": [
              "           gold_label                                               text\n",
              "0       contradiction                         they are inside of a house\n",
              "1          entailment                             two guys are in a yard\n",
              "2             neutral                            They are doing yardwork\n",
              "3       contradiction                                 A man is swimming.\n",
              "4          entailment          Two young white men are near some bushes.\n",
              "...               ...                                                ...\n",
              "549362     entailment       A family gathers around to play a video game\n",
              "549363        neutral  A family enjoys the Christmas as they gather t...\n",
              "549364  contradiction                   Video games tear families apart.\n",
              "549365     entailment               Video games bring families together.\n",
              "549366        neutral        Action video games bring families together.\n",
              "\n",
              "[549367 rows x 2 columns]"
            ]
          },
          "metadata": {},
          "execution_count": 6
        }
      ]
    },
    {
      "cell_type": "code",
      "metadata": {
        "id": "tSvri_yGy9Nr"
      },
      "source": [
        "X_train = df_train.text\n",
        "y_train = df_train.gold_label\n",
        "\n",
        "X_valid = df_valid.text\n",
        "y_valid = df_valid.gold_label"
      ],
      "execution_count": null,
      "outputs": []
    },
    {
      "cell_type": "markdown",
      "metadata": {
        "id": "kfv54CF8z0cw"
      },
      "source": [
        "#Balance de clases\n",
        "\n",
        "---\n",
        "Observamos que el dataset se encuentra balanceado en cuanto a proporción de clases, por lo que esperaríamos clasificar cada clase con una precisión de aproximadamente 0.33, si suponemos que el dataset no está sesgado.\n"
      ]
    },
    {
      "cell_type": "code",
      "metadata": {
        "colab": {
          "base_uri": "https://localhost:8080/"
        },
        "id": "AgQiRSDE-aFW",
        "outputId": "275ef175-850e-4469-c525-34f9824b3e97"
      },
      "source": [
        "#Balance de clases\n",
        "from collections import Counter\n",
        "prop=Counter(y_train)\n",
        "total=prop['contradiction']+prop['entailment']+prop['neutral']\n",
        "\n",
        "print(\"La cantidad de 'contradiction' es \", prop['contradiction'] , \"y representa el \", 100*prop['contradiction']/total, \"% del total del dataset de train\")\n",
        "print(\"La cantidad de 'entailment' es \", prop['entailment'] , \"y representa el \", 100*prop['entailment']/total, \"% del total del dataset de train\")\n",
        "print(\"La cantidad de 'neutral' es \", prop['neutral'] , \"y representa el \", 100*prop['neutral']/total, \"% del total del dataset de train\")\n",
        "\n",
        "\n",
        "\n",
        "\n",
        "#contradiction, entailment, neutral"
      ],
      "execution_count": null,
      "outputs": [
        {
          "output_type": "stream",
          "name": "stdout",
          "text": [
            "La cantidad de 'contradiction' es  183187 y representa el  33.34510445658367 % del total del dataset de train\n",
            "La cantidad de 'entailment' es  183416 y representa el  33.38678879510418 % del total del dataset de train\n",
            "La cantidad de 'neutral' es  182764 y representa el  33.26810674831215 % del total del dataset de train\n"
          ]
        }
      ]
    },
    {
      "cell_type": "markdown",
      "metadata": {
        "id": "7pw5-yPS7H-H"
      },
      "source": [
        "# Búsqueda de hiperparámetros \n"
      ]
    },
    {
      "cell_type": "markdown",
      "metadata": {
        "id": "RPUAnm0nRwPE"
      },
      "source": [
        "## Clase Preprocesamiento"
      ]
    },
    {
      "cell_type": "code",
      "metadata": {
        "id": "Q6LvIEMISDOx"
      },
      "source": [
        "#lowercase\n",
        "#lematización\n",
        "#puntuación\n",
        "#stop words\n",
        "#stemización\n",
        "\n",
        "class Preprocessor(object):\n",
        "    def __init__(self, lower= True, stop= True, lem=True, punc= True, stem=True):\n",
        "        \n",
        "        self.lower = lower\n",
        "\n",
        "        self.stop = stop\n",
        "        if self.stop:\n",
        "          self.stop_words = set(stopwords.words('english'))\n",
        "\n",
        "        self.lem = lem\n",
        "        if self.lem:\n",
        "            self.lemmatizer = WordNetLemmatizer()\n",
        "        \n",
        "        self.punc = punc\n",
        "                        \n",
        "        self.stem = stem\n",
        "        if self.stem:\n",
        "            self.stemmer = PorterStemmer()           \n",
        "\n",
        "    \n",
        "    def __call__(self, line):\n",
        "        \n",
        "        if self.lower:\n",
        "            line = line.lower()\n",
        "            \n",
        "        tokens = word_tokenize(line)\n",
        "\n",
        "        if self.stop:\n",
        "          tokens = [x for x in tokens if x not in self.stop_words]        \n",
        "            \n",
        "        if self.lem:\n",
        "            tokens = [self.lemmatizer.lemmatize(x, pos='v') for x in tokens]             \n",
        "            \n",
        "        if self.punc:\n",
        "            tokens = [x for x in tokens if x not in punctuation]\n",
        "        \n",
        "        if self.stem:\n",
        "            tokens = [self.stemmer.stem(x) for x in tokens]\n",
        "            \n",
        "        preprocessed = []\n",
        "        preprocessed.append(\" \".join(tokens))\n",
        "        return preprocessed[0]"
      ],
      "execution_count": null,
      "outputs": []
    },
    {
      "cell_type": "markdown",
      "metadata": {
        "id": "p5EvIIU4Qf_0"
      },
      "source": [
        "## LinearSVC\n",
        "---\n",
        "SVM con kernel lineal"
      ]
    },
    {
      "cell_type": "markdown",
      "metadata": {
        "id": "mgf64jtfaYRn"
      },
      "source": [
        "### Primera prueba\n",
        "2000 iteraciones en SVM"
      ]
    },
    {
      "cell_type": "markdown",
      "metadata": {
        "id": "8WOpUhMHkw4G"
      },
      "source": [
        "#### Definimos el pipeline y los hiperparámetros\n",
        "\n",
        "*   Count Vectorizer + Preprocesamiento\n",
        "*   SVM lineal\n",
        "\n"
      ]
    },
    {
      "cell_type": "code",
      "metadata": {
        "id": "hp49TMYI0pOA"
      },
      "source": [
        "from pprint import pprint\n",
        "from time import time\n",
        "import logging"
      ],
      "execution_count": null,
      "outputs": []
    },
    {
      "cell_type": "code",
      "metadata": {
        "id": "hyvRWQyD0lR7"
      },
      "source": [
        "# Display progress logs on stdout\n",
        "logging.basicConfig(level=logging.INFO,\n",
        "                    format='%(asctime)s %(levelname)s %(message)s')"
      ],
      "execution_count": null,
      "outputs": []
    },
    {
      "cell_type": "code",
      "metadata": {
        "id": "OUTqvo6VAM_Q"
      },
      "source": [
        "# Definimos un a pipeline combinando el extractor de características y el clasificador\n",
        "#CV + TFIDF + LinearSVM\n",
        "pipeline = Pipeline([\n",
        "    ('vect', CountVectorizer()),\n",
        "    ('tfidf', TfidfTransformer()),\n",
        "    ('clf', LinearSVC(loss='hinge', penalty='l2', random_state=42,\n",
        "                    max_iter=2000, tol=0.0001, verbose = True))\n",
        "])\n",
        "\n",
        "parameters = {\n",
        "    'vect__preprocessor': (Preprocessor(),\n",
        "                           Preprocessor(stem=False),\n",
        "                           Preprocessor(lem=False),\n",
        "                           Preprocessor(stop = False),\n",
        "                           Preprocessor(lower= False, stop = False, lem=False, punc= False, stem=False)),\n",
        "    'vect__min_df': (1, 10, 100),\n",
        "    'vect__max_df': (0.6, 0.8),\n",
        "    'vect__ngram_range': ((1, 2),(1,3), (1,4)),\n",
        "    'tfidf__use_idf': (True, False),\n",
        "    \n",
        "    'clf__C': (1.0,5.0, 10.0),\n",
        "    'clf__fit_intercept': (True, False)\n",
        "    \n",
        "}"
      ],
      "execution_count": null,
      "outputs": []
    },
    {
      "cell_type": "markdown",
      "metadata": {
        "id": "SBDe5__bS7IO"
      },
      "source": [
        "#### Randomized search\n",
        "10 modelos"
      ]
    },
    {
      "cell_type": "code",
      "metadata": {
        "id": "mwrHZyYdS5uh",
        "colab": {
          "base_uri": "https://localhost:8080/"
        },
        "outputId": "3a407f8c-f0ed-4592-bd96-6fb3bebdf32b"
      },
      "source": [
        "rand_search1 = RandomizedSearchCV(pipeline, parameters, verbose=1, n_iter = 10, cv = ShuffleSplit(n_splits=1, random_state=42), return_train_score = True)\n",
        "\n",
        "print(\"Performing grid search...\")\n",
        "print(\"pipeline:\", [name for name, _ in pipeline.steps])\n",
        "print(\"parameters:\")\n",
        "pprint(parameters)\n",
        "t0 = time()\n",
        "rand_search1.fit(X_train, y_train)\n",
        "print(\"done in %0.3fs\" % (time() - t0))\n",
        "print()\n",
        "\n",
        "print(\"Best score: %0.3f\" % rand_search1.best_score_)\n",
        "print(\"Best parameters set:\")\n",
        "best_parameters = rand_search1.best_estimator_.get_params()\n",
        "for param_name in sorted(parameters.keys()):\n",
        "    print(\"\\t%s: %r\" % (param_name, best_parameters[param_name]))"
      ],
      "execution_count": null,
      "outputs": [
        {
          "output_type": "stream",
          "name": "stdout",
          "text": [
            "Performing grid search...\n",
            "pipeline: ['vect', 'tfidf', 'clf']\n",
            "parameters:\n",
            "{'clf__C': (1.0, 5.0, 10.0),\n",
            " 'clf__fit_intercept': (True, False),\n",
            " 'tfidf__use_idf': (True, False),\n",
            " 'vect__max_df': (0.6, 0.8),\n",
            " 'vect__min_df': (1, 10, 100),\n",
            " 'vect__ngram_range': ((1, 2), (1, 3), (1, 4)),\n",
            " 'vect__preprocessor': (<__main__.Preprocessor object at 0x7f2b81053950>,\n",
            "                        <__main__.Preprocessor object at 0x7f2b73796590>,\n",
            "                        <__main__.Preprocessor object at 0x7f2b73796610>,\n",
            "                        <__main__.Preprocessor object at 0x7f2b73782210>,\n",
            "                        <__main__.Preprocessor object at 0x7f2b73775e10>)}\n",
            "Fitting 1 folds for each of 10 candidates, totalling 10 fits\n",
            "[LibLinear]"
          ]
        },
        {
          "output_type": "stream",
          "name": "stderr",
          "text": [
            "/usr/local/lib/python3.7/dist-packages/sklearn/svm/_base.py:1208: ConvergenceWarning: Liblinear failed to converge, increase the number of iterations.\n",
            "  ConvergenceWarning,\n"
          ]
        },
        {
          "output_type": "stream",
          "name": "stdout",
          "text": [
            "[LibLinear]"
          ]
        },
        {
          "output_type": "stream",
          "name": "stderr",
          "text": [
            "/usr/local/lib/python3.7/dist-packages/sklearn/svm/_base.py:1208: ConvergenceWarning: Liblinear failed to converge, increase the number of iterations.\n",
            "  ConvergenceWarning,\n"
          ]
        },
        {
          "output_type": "stream",
          "name": "stdout",
          "text": [
            "[LibLinear][LibLinear]"
          ]
        },
        {
          "output_type": "stream",
          "name": "stderr",
          "text": [
            "/usr/local/lib/python3.7/dist-packages/sklearn/svm/_base.py:1208: ConvergenceWarning: Liblinear failed to converge, increase the number of iterations.\n",
            "  ConvergenceWarning,\n"
          ]
        },
        {
          "output_type": "stream",
          "name": "stdout",
          "text": [
            "[LibLinear]"
          ]
        },
        {
          "output_type": "stream",
          "name": "stderr",
          "text": [
            "/usr/local/lib/python3.7/dist-packages/sklearn/svm/_base.py:1208: ConvergenceWarning: Liblinear failed to converge, increase the number of iterations.\n",
            "  ConvergenceWarning,\n"
          ]
        },
        {
          "output_type": "stream",
          "name": "stdout",
          "text": [
            "[LibLinear]"
          ]
        },
        {
          "output_type": "stream",
          "name": "stderr",
          "text": [
            "/usr/local/lib/python3.7/dist-packages/sklearn/svm/_base.py:1208: ConvergenceWarning: Liblinear failed to converge, increase the number of iterations.\n",
            "  ConvergenceWarning,\n"
          ]
        },
        {
          "output_type": "stream",
          "name": "stdout",
          "text": [
            "[LibLinear]"
          ]
        },
        {
          "output_type": "stream",
          "name": "stderr",
          "text": [
            "/usr/local/lib/python3.7/dist-packages/sklearn/svm/_base.py:1208: ConvergenceWarning: Liblinear failed to converge, increase the number of iterations.\n",
            "  ConvergenceWarning,\n"
          ]
        },
        {
          "output_type": "stream",
          "name": "stdout",
          "text": [
            "[LibLinear]"
          ]
        },
        {
          "output_type": "stream",
          "name": "stderr",
          "text": [
            "/usr/local/lib/python3.7/dist-packages/sklearn/svm/_base.py:1208: ConvergenceWarning: Liblinear failed to converge, increase the number of iterations.\n",
            "  ConvergenceWarning,\n"
          ]
        },
        {
          "output_type": "stream",
          "name": "stdout",
          "text": [
            "[LibLinear]"
          ]
        },
        {
          "output_type": "stream",
          "name": "stderr",
          "text": [
            "/usr/local/lib/python3.7/dist-packages/sklearn/svm/_base.py:1208: ConvergenceWarning: Liblinear failed to converge, increase the number of iterations.\n",
            "  ConvergenceWarning,\n"
          ]
        },
        {
          "output_type": "stream",
          "name": "stdout",
          "text": [
            "[LibLinear]"
          ]
        },
        {
          "output_type": "stream",
          "name": "stderr",
          "text": [
            "/usr/local/lib/python3.7/dist-packages/sklearn/svm/_base.py:1208: ConvergenceWarning: Liblinear failed to converge, increase the number of iterations.\n",
            "  ConvergenceWarning,\n"
          ]
        },
        {
          "output_type": "stream",
          "name": "stdout",
          "text": [
            "[LibLinear]done in 3510.431s\n",
            "\n",
            "Best score: 0.653\n",
            "Best parameters set:\n",
            "\tclf__C: 5.0\n",
            "\tclf__fit_intercept: True\n",
            "\ttfidf__use_idf: False\n",
            "\tvect__max_df: 0.8\n",
            "\tvect__min_df: 10\n",
            "\tvect__ngram_range: (1, 3)\n",
            "\tvect__preprocessor: <__main__.Preprocessor object at 0x7f2b75c35c50>\n"
          ]
        },
        {
          "output_type": "stream",
          "name": "stderr",
          "text": [
            "/usr/local/lib/python3.7/dist-packages/sklearn/svm/_base.py:1208: ConvergenceWarning: Liblinear failed to converge, increase the number of iterations.\n",
            "  ConvergenceWarning,\n"
          ]
        }
      ]
    },
    {
      "cell_type": "markdown",
      "metadata": {
        "id": "JGAnshw1T9g8"
      },
      "source": [
        "#### Resultados"
      ]
    },
    {
      "cell_type": "code",
      "metadata": {
        "id": "0xPnkTX3sfEi"
      },
      "source": [
        "with open('rand_search1.pck', 'wb') as fp:\n",
        "    pickle.dump(rand_search1, fp)"
      ],
      "execution_count": null,
      "outputs": []
    },
    {
      "cell_type": "code",
      "metadata": {
        "id": "r2v4Lg_GcBX0",
        "colab": {
          "base_uri": "https://localhost:8080/"
        },
        "outputId": "ebb4c58a-67f4-4d37-f59d-805f62cf6a51"
      },
      "source": [
        "print(best_parameters['vect__preprocessor'].lem)\n",
        "print(best_parameters['vect__preprocessor'].stem)\n",
        "print(best_parameters['vect__preprocessor'].stop)\n",
        "print(best_parameters['vect__preprocessor'].punc)\n",
        "print(best_parameters['vect__preprocessor'].lower)"
      ],
      "execution_count": null,
      "outputs": [
        {
          "output_type": "stream",
          "name": "stdout",
          "text": [
            "False\n",
            "False\n",
            "False\n",
            "False\n",
            "False\n"
          ]
        }
      ]
    },
    {
      "cell_type": "code",
      "metadata": {
        "id": "J7bIDaEDPqY-",
        "colab": {
          "base_uri": "https://localhost:8080/",
          "height": 392
        },
        "outputId": "b5d5b528-7d57-4fe0-a5a8-93735e803777"
      },
      "source": [
        "results_df1 = pd.DataFrame(rand_search1.cv_results_)\n",
        "results_df1 = results_df1.sort_values(by=['rank_test_score'])\n",
        "results_df1 = (\n",
        "    results_df1\n",
        "    .set_index(results_df1[\"params\"].apply(\n",
        "        lambda x: \"_\".join(str(val) for val in x.values()))\n",
        "    )\n",
        "    .rename_axis('kernel')\n",
        ")\n",
        "results_df1[\n",
        "    ['rank_test_score', 'mean_test_score', 'mean_train_score', 'std_test_score']\n",
        "]"
      ],
      "execution_count": null,
      "outputs": [
        {
          "output_type": "execute_result",
          "data": {
            "text/html": [
              "<div>\n",
              "<style scoped>\n",
              "    .dataframe tbody tr th:only-of-type {\n",
              "        vertical-align: middle;\n",
              "    }\n",
              "\n",
              "    .dataframe tbody tr th {\n",
              "        vertical-align: top;\n",
              "    }\n",
              "\n",
              "    .dataframe thead th {\n",
              "        text-align: right;\n",
              "    }\n",
              "</style>\n",
              "<table border=\"1\" class=\"dataframe\">\n",
              "  <thead>\n",
              "    <tr style=\"text-align: right;\">\n",
              "      <th></th>\n",
              "      <th>rank_test_score</th>\n",
              "      <th>mean_test_score</th>\n",
              "      <th>mean_train_score</th>\n",
              "      <th>std_test_score</th>\n",
              "    </tr>\n",
              "    <tr>\n",
              "      <th>kernel</th>\n",
              "      <th></th>\n",
              "      <th></th>\n",
              "      <th></th>\n",
              "      <th></th>\n",
              "    </tr>\n",
              "  </thead>\n",
              "  <tbody>\n",
              "    <tr>\n",
              "      <th>&lt;__main__.Preprocessor object at 0x7f2b73775e10&gt;_(1, 3)_10_0.8_False_True_5.0</th>\n",
              "      <td>1</td>\n",
              "      <td>0.653185</td>\n",
              "      <td>0.724183</td>\n",
              "      <td>0.0</td>\n",
              "    </tr>\n",
              "    <tr>\n",
              "      <th>&lt;__main__.Preprocessor object at 0x7f2b73782210&gt;_(1, 4)_100_0.6_False_False_5.0</th>\n",
              "      <td>2</td>\n",
              "      <td>0.634381</td>\n",
              "      <td>0.647898</td>\n",
              "      <td>0.0</td>\n",
              "    </tr>\n",
              "    <tr>\n",
              "      <th>&lt;__main__.Preprocessor object at 0x7f2b73782210&gt;_(1, 2)_100_0.8_True_False_10.0</th>\n",
              "      <td>3</td>\n",
              "      <td>0.630759</td>\n",
              "      <td>0.641361</td>\n",
              "      <td>0.0</td>\n",
              "    </tr>\n",
              "    <tr>\n",
              "      <th>&lt;__main__.Preprocessor object at 0x7f2b73796610&gt;_(1, 3)_1_0.6_False_False_1.0</th>\n",
              "      <td>4</td>\n",
              "      <td>0.628119</td>\n",
              "      <td>0.784582</td>\n",
              "      <td>0.0</td>\n",
              "    </tr>\n",
              "    <tr>\n",
              "      <th>&lt;__main__.Preprocessor object at 0x7f2b73775e10&gt;_(1, 3)_100_0.6_False_False_10.0</th>\n",
              "      <td>5</td>\n",
              "      <td>0.626117</td>\n",
              "      <td>0.638598</td>\n",
              "      <td>0.0</td>\n",
              "    </tr>\n",
              "    <tr>\n",
              "      <th>&lt;__main__.Preprocessor object at 0x7f2b73775e10&gt;_(1, 4)_100_0.6_False_True_1.0</th>\n",
              "      <td>6</td>\n",
              "      <td>0.623896</td>\n",
              "      <td>0.635232</td>\n",
              "      <td>0.0</td>\n",
              "    </tr>\n",
              "    <tr>\n",
              "      <th>&lt;__main__.Preprocessor object at 0x7f2b73796610&gt;_(1, 4)_10_0.8_False_False_10.0</th>\n",
              "      <td>7</td>\n",
              "      <td>0.622586</td>\n",
              "      <td>0.669462</td>\n",
              "      <td>0.0</td>\n",
              "    </tr>\n",
              "    <tr>\n",
              "      <th>&lt;__main__.Preprocessor object at 0x7f2b73796590&gt;_(1, 4)_10_0.8_True_False_5.0</th>\n",
              "      <td>8</td>\n",
              "      <td>0.620893</td>\n",
              "      <td>0.667561</td>\n",
              "      <td>0.0</td>\n",
              "    </tr>\n",
              "    <tr>\n",
              "      <th>&lt;__main__.Preprocessor object at 0x7f2b73796590&gt;_(1, 3)_100_0.6_False_False_1.0</th>\n",
              "      <td>9</td>\n",
              "      <td>0.588074</td>\n",
              "      <td>0.597150</td>\n",
              "      <td>0.0</td>\n",
              "    </tr>\n",
              "    <tr>\n",
              "      <th>&lt;__main__.Preprocessor object at 0x7f2b81053950&gt;_(1, 4)_100_0.8_False_True_5.0</th>\n",
              "      <td>10</td>\n",
              "      <td>0.577826</td>\n",
              "      <td>0.586305</td>\n",
              "      <td>0.0</td>\n",
              "    </tr>\n",
              "  </tbody>\n",
              "</table>\n",
              "</div>"
            ],
            "text/plain": [
              "                                                    rank_test_score  ...  std_test_score\n",
              "kernel                                                               ...                \n",
              "<__main__.Preprocessor object at 0x7f2b73775e10...                1  ...             0.0\n",
              "<__main__.Preprocessor object at 0x7f2b73782210...                2  ...             0.0\n",
              "<__main__.Preprocessor object at 0x7f2b73782210...                3  ...             0.0\n",
              "<__main__.Preprocessor object at 0x7f2b73796610...                4  ...             0.0\n",
              "<__main__.Preprocessor object at 0x7f2b73775e10...                5  ...             0.0\n",
              "<__main__.Preprocessor object at 0x7f2b73775e10...                6  ...             0.0\n",
              "<__main__.Preprocessor object at 0x7f2b73796610...                7  ...             0.0\n",
              "<__main__.Preprocessor object at 0x7f2b73796590...                8  ...             0.0\n",
              "<__main__.Preprocessor object at 0x7f2b73796590...                9  ...             0.0\n",
              "<__main__.Preprocessor object at 0x7f2b81053950...               10  ...             0.0\n",
              "\n",
              "[10 rows x 4 columns]"
            ]
          },
          "metadata": {},
          "execution_count": 50
        }
      ]
    },
    {
      "cell_type": "code",
      "metadata": {
        "colab": {
          "base_uri": "https://localhost:8080/"
        },
        "id": "jL_C5tH9muoe",
        "outputId": "3e7e9470-3b02-4e05-b66c-9dac1a59be95"
      },
      "source": [
        "for i in range(0,10):\n",
        "  print(i)\n",
        "  print(rand_search1.cv_results_['mean_test_score'][i])\n",
        "  print('lem: ',rand_search1.cv_results_['param_vect__preprocessor'][i].lem)\n",
        "  print('stem: ',rand_search1.cv_results_['param_vect__preprocessor'][i].stem)\n",
        "  print('stop: ',rand_search1.cv_results_['param_vect__preprocessor'][i].stop)\n",
        "  print('punc: ',rand_search1.cv_results_['param_vect__preprocessor'][i].punc)\n",
        "  print('lower: ',rand_search1.cv_results_['param_vect__preprocessor'][i].lower)"
      ],
      "execution_count": null,
      "outputs": [
        {
          "output_type": "stream",
          "name": "stdout",
          "text": [
            "0\n",
            "0.6343812002839616\n",
            "lem:  True\n",
            "stem:  True\n",
            "stop:  False\n",
            "punc:  True\n",
            "lower:  True\n",
            "1\n",
            "0.6261171887798751\n",
            "lem:  False\n",
            "stem:  False\n",
            "stop:  False\n",
            "punc:  False\n",
            "lower:  False\n",
            "2\n",
            "0.6281194823161076\n",
            "lem:  False\n",
            "stem:  True\n",
            "stop:  True\n",
            "punc:  True\n",
            "lower:  True\n",
            "3\n",
            "0.5778255092196516\n",
            "lem:  True\n",
            "stem:  True\n",
            "stop:  True\n",
            "punc:  True\n",
            "lower:  True\n",
            "4\n",
            "0.653184556856035\n",
            "lem:  False\n",
            "stem:  False\n",
            "stop:  False\n",
            "punc:  False\n",
            "lower:  False\n",
            "5\n",
            "0.6208930229171596\n",
            "lem:  True\n",
            "stem:  False\n",
            "stop:  True\n",
            "punc:  True\n",
            "lower:  True\n",
            "6\n",
            "0.6307588692502321\n",
            "lem:  True\n",
            "stem:  True\n",
            "stop:  False\n",
            "punc:  True\n",
            "lower:  True\n",
            "7\n",
            "0.6238964632215083\n",
            "lem:  False\n",
            "stem:  False\n",
            "stop:  False\n",
            "punc:  False\n",
            "lower:  False\n",
            "8\n",
            "0.6225858710887016\n",
            "lem:  False\n",
            "stem:  True\n",
            "stop:  True\n",
            "punc:  True\n",
            "lower:  True\n",
            "9\n",
            "0.5880736115914593\n",
            "lem:  True\n",
            "stem:  False\n",
            "stop:  True\n",
            "punc:  True\n",
            "lower:  True\n"
          ]
        }
      ]
    },
    {
      "cell_type": "markdown",
      "metadata": {
        "id": "wAkLLQ9LPt2e"
      },
      "source": [
        "Probamos el modelo con el set de validación y calculamos métricas\n",
        "\n",
        "* Precisión o valor predictivo positivo: $\\frac{VP}{VP+FP}$\n",
        "* Recall o sensibilidad: $\\frac{VP}{VP+FN}$\n",
        "* f1-score: $2\\cdot\\frac{precision \\cdot recall}{precision + recall}$\n",
        "* support: total de clasficaciones para esa clase "
      ]
    },
    {
      "cell_type": "code",
      "metadata": {
        "colab": {
          "base_uri": "https://localhost:8080/"
        },
        "id": "DjpqZpm16Max",
        "outputId": "d70cb09d-41f5-4a52-e393-ffb31d45aebf"
      },
      "source": [
        "y_true, y_pred = y_valid, rand_search1.predict(X_valid)\n",
        "print(classification_report(y_true, y_pred, digits = 4))\n",
        "print()"
      ],
      "execution_count": null,
      "outputs": [
        {
          "output_type": "stream",
          "name": "stdout",
          "text": [
            "               precision    recall  f1-score   support\n",
            "\n",
            "contradiction     0.6587    0.6501    0.6544      3278\n",
            "   entailment     0.6581    0.6984    0.6776      3329\n",
            "      neutral     0.6727    0.6393    0.6556      3235\n",
            "\n",
            "     accuracy                         0.6629      9842\n",
            "    macro avg     0.6632    0.6626    0.6625      9842\n",
            " weighted avg     0.6631    0.6629    0.6626      9842\n",
            "\n",
            "\n"
          ]
        }
      ]
    },
    {
      "cell_type": "code",
      "metadata": {
        "colab": {
          "base_uri": "https://localhost:8080/",
          "height": 143
        },
        "id": "SR78qIFAPj_k",
        "outputId": "2ee644e4-cfd4-4dae-ce7d-dbf0ff68715d"
      },
      "source": [
        "pd.DataFrame(confusion_matrix(y_true,y_pred), index = rand_search1.classes_, columns = rand_search1.classes_)"
      ],
      "execution_count": null,
      "outputs": [
        {
          "output_type": "execute_result",
          "data": {
            "text/html": [
              "<div>\n",
              "<style scoped>\n",
              "    .dataframe tbody tr th:only-of-type {\n",
              "        vertical-align: middle;\n",
              "    }\n",
              "\n",
              "    .dataframe tbody tr th {\n",
              "        vertical-align: top;\n",
              "    }\n",
              "\n",
              "    .dataframe thead th {\n",
              "        text-align: right;\n",
              "    }\n",
              "</style>\n",
              "<table border=\"1\" class=\"dataframe\">\n",
              "  <thead>\n",
              "    <tr style=\"text-align: right;\">\n",
              "      <th></th>\n",
              "      <th>contradiction</th>\n",
              "      <th>entailment</th>\n",
              "      <th>neutral</th>\n",
              "    </tr>\n",
              "  </thead>\n",
              "  <tbody>\n",
              "    <tr>\n",
              "      <th>contradiction</th>\n",
              "      <td>2131</td>\n",
              "      <td>602</td>\n",
              "      <td>545</td>\n",
              "    </tr>\n",
              "    <tr>\n",
              "      <th>entailment</th>\n",
              "      <td>543</td>\n",
              "      <td>2325</td>\n",
              "      <td>461</td>\n",
              "    </tr>\n",
              "    <tr>\n",
              "      <th>neutral</th>\n",
              "      <td>561</td>\n",
              "      <td>606</td>\n",
              "      <td>2068</td>\n",
              "    </tr>\n",
              "  </tbody>\n",
              "</table>\n",
              "</div>"
            ],
            "text/plain": [
              "               contradiction  entailment  neutral\n",
              "contradiction           2131         602      545\n",
              "entailment               543        2325      461\n",
              "neutral                  561         606     2068"
            ]
          },
          "metadata": {},
          "execution_count": 60
        }
      ]
    },
    {
      "cell_type": "markdown",
      "metadata": {
        "id": "oO6W7vYAN2wi"
      },
      "source": [
        "#### Hacemos la predicción para test con el mejor modelo de esta Randomized Search\n",
        "**SUBMISSION**: 0.67284"
      ]
    },
    {
      "cell_type": "code",
      "metadata": {
        "id": "ZPK9Se6gN-L1"
      },
      "source": [
        "with open ('rand_search1.pck', 'rb') as fp:\n",
        "    rand_search1 = pickle.load(fp)"
      ],
      "execution_count": null,
      "outputs": []
    },
    {
      "cell_type": "code",
      "metadata": {
        "id": "cRQsgStBN2wi"
      },
      "source": [
        "y_pred = rand_search1.predict(df_test.text)"
      ],
      "execution_count": null,
      "outputs": []
    },
    {
      "cell_type": "code",
      "metadata": {
        "id": "RM0x113jN2wi"
      },
      "source": [
        "df_submit=pd.DataFrame(y_pred).rename(columns={0:\"pred_labels\"})"
      ],
      "execution_count": null,
      "outputs": []
    },
    {
      "cell_type": "code",
      "metadata": {
        "id": "RlFroU4MN2wi"
      },
      "source": [
        "df_submit = df_submit.rename_axis(index=\"pairID\")"
      ],
      "execution_count": null,
      "outputs": []
    },
    {
      "cell_type": "code",
      "metadata": {
        "colab": {
          "base_uri": "https://localhost:8080/",
          "height": 455
        },
        "id": "z7nW9k4_N2wj",
        "outputId": "a6c1dd52-253c-4de2-c1d0-9037f129723e"
      },
      "source": [
        "df_submit"
      ],
      "execution_count": null,
      "outputs": [
        {
          "output_type": "execute_result",
          "data": {
            "text/html": [
              "<div>\n",
              "<style scoped>\n",
              "    .dataframe tbody tr th:only-of-type {\n",
              "        vertical-align: middle;\n",
              "    }\n",
              "\n",
              "    .dataframe tbody tr th {\n",
              "        vertical-align: top;\n",
              "    }\n",
              "\n",
              "    .dataframe thead th {\n",
              "        text-align: right;\n",
              "    }\n",
              "</style>\n",
              "<table border=\"1\" class=\"dataframe\">\n",
              "  <thead>\n",
              "    <tr style=\"text-align: right;\">\n",
              "      <th></th>\n",
              "      <th>pred_labels</th>\n",
              "    </tr>\n",
              "    <tr>\n",
              "      <th>pairID</th>\n",
              "      <th></th>\n",
              "    </tr>\n",
              "  </thead>\n",
              "  <tbody>\n",
              "    <tr>\n",
              "      <th>0</th>\n",
              "      <td>neutral</td>\n",
              "    </tr>\n",
              "    <tr>\n",
              "      <th>1</th>\n",
              "      <td>neutral</td>\n",
              "    </tr>\n",
              "    <tr>\n",
              "      <th>2</th>\n",
              "      <td>contradiction</td>\n",
              "    </tr>\n",
              "    <tr>\n",
              "      <th>3</th>\n",
              "      <td>contradiction</td>\n",
              "    </tr>\n",
              "    <tr>\n",
              "      <th>4</th>\n",
              "      <td>neutral</td>\n",
              "    </tr>\n",
              "    <tr>\n",
              "      <th>...</th>\n",
              "      <td>...</td>\n",
              "    </tr>\n",
              "    <tr>\n",
              "      <th>9819</th>\n",
              "      <td>contradiction</td>\n",
              "    </tr>\n",
              "    <tr>\n",
              "      <th>9820</th>\n",
              "      <td>entailment</td>\n",
              "    </tr>\n",
              "    <tr>\n",
              "      <th>9821</th>\n",
              "      <td>contradiction</td>\n",
              "    </tr>\n",
              "    <tr>\n",
              "      <th>9822</th>\n",
              "      <td>entailment</td>\n",
              "    </tr>\n",
              "    <tr>\n",
              "      <th>9823</th>\n",
              "      <td>neutral</td>\n",
              "    </tr>\n",
              "  </tbody>\n",
              "</table>\n",
              "<p>9824 rows × 1 columns</p>\n",
              "</div>"
            ],
            "text/plain": [
              "          pred_labels\n",
              "pairID               \n",
              "0             neutral\n",
              "1             neutral\n",
              "2       contradiction\n",
              "3       contradiction\n",
              "4             neutral\n",
              "...               ...\n",
              "9819    contradiction\n",
              "9820       entailment\n",
              "9821    contradiction\n",
              "9822       entailment\n",
              "9823          neutral\n",
              "\n",
              "[9824 rows x 1 columns]"
            ]
          },
          "metadata": {},
          "execution_count": 13
        }
      ]
    },
    {
      "cell_type": "code",
      "metadata": {
        "id": "exffteDQN2wj"
      },
      "source": [
        "df_submit.to_csv(\"submission4.csv\")"
      ],
      "execution_count": null,
      "outputs": []
    },
    {
      "cell_type": "markdown",
      "metadata": {
        "id": "b5N16wFJpdK4"
      },
      "source": [
        "### Segunda prueba\n",
        "10000 iteraciones en SVM"
      ]
    },
    {
      "cell_type": "markdown",
      "metadata": {
        "id": "gcTMbwGYLSr3"
      },
      "source": [
        "#### Pipeline e hiperparámetros"
      ]
    },
    {
      "cell_type": "code",
      "metadata": {
        "id": "ios1UK_Ppiz_"
      },
      "source": [
        "# Definimos un a pipeline combinando el extractor de características y el clasificador\n",
        "#CV + TFIDF + LinearSVM\n",
        "pipeline = Pipeline([\n",
        "    ('vect', CountVectorizer()),\n",
        "    ('tfidf', TfidfTransformer()),\n",
        "    ('clf', LinearSVC(loss='hinge', penalty='l2', random_state=42,\n",
        "                    max_iter=10000, tol=0.0001, verbose = True))\n",
        "])\n",
        "\n",
        "parameters = {\n",
        "    'vect__preprocessor': (Preprocessor(),\n",
        "                           Preprocessor(stem=False),\n",
        "                           Preprocessor(lem=False),\n",
        "                           Preprocessor(stop = False, lem = False),\n",
        "                           Preprocessor(stop = False),\n",
        "                           Preprocessor(lower= False, stop = False, lem=False, punc= False, stem=False)),\n",
        "    'vect__min_df': (1, 10, 100),\n",
        "    'vect__max_df': (0.6, 0.8),\n",
        "    'vect__ngram_range': ((1, 2),(1,3), (1,4)),\n",
        "    'tfidf__use_idf': (True, False),\n",
        "    \n",
        "    'clf__C': (1.0,5.0, 10.0),\n",
        "    'clf__fit_intercept': (True, False)\n",
        "    \n",
        "}"
      ],
      "execution_count": null,
      "outputs": []
    },
    {
      "cell_type": "markdown",
      "metadata": {
        "id": "7T_AqiQspi0B"
      },
      "source": [
        "#### Randomized search\n",
        "10 modelos"
      ]
    },
    {
      "cell_type": "code",
      "metadata": {
        "colab": {
          "base_uri": "https://localhost:8080/"
        },
        "id": "NETXMqhIpi0C",
        "outputId": "f4d482c8-1d24-4988-adb1-fde0783b740d"
      },
      "source": [
        "rand_search1 = RandomizedSearchCV(pipeline, parameters, verbose=1, n_iter = 10, cv = ShuffleSplit(n_splits=1, random_state=42), return_train_score = True)\n",
        "\n",
        "print(\"Performing grid search...\")\n",
        "print(\"pipeline:\", [name for name, _ in pipeline.steps])\n",
        "print(\"parameters:\")\n",
        "pprint(parameters)\n",
        "t0 = time()\n",
        "rand_search1.fit(X_train, y_train)\n",
        "print(\"done in %0.3fs\" % (time() - t0))\n",
        "print()\n",
        "\n",
        "print(\"Best score: %0.3f\" % rand_search1.best_score_)\n",
        "print(\"Best parameters set:\")\n",
        "best_parameters = rand_search1.best_estimator_.get_params()\n",
        "for param_name in sorted(parameters.keys()):\n",
        "    print(\"\\t%s: %r\" % (param_name, best_parameters[param_name]))"
      ],
      "execution_count": null,
      "outputs": [
        {
          "output_type": "stream",
          "name": "stdout",
          "text": [
            "Performing grid search...\n",
            "pipeline: ['vect', 'tfidf', 'clf']\n",
            "parameters:\n",
            "{'clf__C': (1.0, 5.0, 10.0),\n",
            " 'clf__fit_intercept': (True, False),\n",
            " 'tfidf__use_idf': (True, False),\n",
            " 'vect__max_df': (0.6, 0.8),\n",
            " 'vect__min_df': (1, 10, 100),\n",
            " 'vect__ngram_range': ((1, 2), (1, 3), (1, 4)),\n",
            " 'vect__preprocessor': (<__main__.Preprocessor object at 0x7f2b7280fb50>,\n",
            "                        <__main__.Preprocessor object at 0x7f2b83a0bb90>,\n",
            "                        <__main__.Preprocessor object at 0x7f2b83a0bfd0>,\n",
            "                        <__main__.Preprocessor object at 0x7f2b736f4150>,\n",
            "                        <__main__.Preprocessor object at 0x7f2b736e9d10>,\n",
            "                        <__main__.Preprocessor object at 0x7f2b736e9dd0>)}\n",
            "Fitting 1 folds for each of 10 candidates, totalling 10 fits\n",
            "[LibLinear]"
          ]
        },
        {
          "output_type": "stream",
          "name": "stderr",
          "text": [
            "/usr/local/lib/python3.7/dist-packages/sklearn/svm/_base.py:1208: ConvergenceWarning: Liblinear failed to converge, increase the number of iterations.\n",
            "  ConvergenceWarning,\n"
          ]
        },
        {
          "output_type": "stream",
          "name": "stdout",
          "text": [
            "[LibLinear][LibLinear]"
          ]
        },
        {
          "output_type": "stream",
          "name": "stderr",
          "text": [
            "/usr/local/lib/python3.7/dist-packages/sklearn/svm/_base.py:1208: ConvergenceWarning: Liblinear failed to converge, increase the number of iterations.\n",
            "  ConvergenceWarning,\n"
          ]
        },
        {
          "output_type": "stream",
          "name": "stdout",
          "text": [
            "[LibLinear]"
          ]
        },
        {
          "output_type": "stream",
          "name": "stderr",
          "text": [
            "/usr/local/lib/python3.7/dist-packages/sklearn/svm/_base.py:1208: ConvergenceWarning: Liblinear failed to converge, increase the number of iterations.\n",
            "  ConvergenceWarning,\n"
          ]
        },
        {
          "output_type": "stream",
          "name": "stdout",
          "text": [
            "[LibLinear]"
          ]
        },
        {
          "output_type": "stream",
          "name": "stderr",
          "text": [
            "/usr/local/lib/python3.7/dist-packages/sklearn/svm/_base.py:1208: ConvergenceWarning: Liblinear failed to converge, increase the number of iterations.\n",
            "  ConvergenceWarning,\n"
          ]
        },
        {
          "output_type": "stream",
          "name": "stdout",
          "text": [
            "[LibLinear][LibLinear]"
          ]
        },
        {
          "output_type": "stream",
          "name": "stderr",
          "text": [
            "/usr/local/lib/python3.7/dist-packages/sklearn/svm/_base.py:1208: ConvergenceWarning: Liblinear failed to converge, increase the number of iterations.\n",
            "  ConvergenceWarning,\n"
          ]
        },
        {
          "output_type": "stream",
          "name": "stdout",
          "text": [
            "[LibLinear]"
          ]
        },
        {
          "output_type": "stream",
          "name": "stderr",
          "text": [
            "/usr/local/lib/python3.7/dist-packages/sklearn/svm/_base.py:1208: ConvergenceWarning: Liblinear failed to converge, increase the number of iterations.\n",
            "  ConvergenceWarning,\n"
          ]
        },
        {
          "output_type": "stream",
          "name": "stdout",
          "text": [
            "[LibLinear]"
          ]
        },
        {
          "output_type": "stream",
          "name": "stderr",
          "text": [
            "/usr/local/lib/python3.7/dist-packages/sklearn/svm/_base.py:1208: ConvergenceWarning: Liblinear failed to converge, increase the number of iterations.\n",
            "  ConvergenceWarning,\n"
          ]
        },
        {
          "output_type": "stream",
          "name": "stdout",
          "text": [
            "[LibLinear]"
          ]
        },
        {
          "output_type": "stream",
          "name": "stderr",
          "text": [
            "/usr/local/lib/python3.7/dist-packages/sklearn/svm/_base.py:1208: ConvergenceWarning: Liblinear failed to converge, increase the number of iterations.\n",
            "  ConvergenceWarning,\n"
          ]
        },
        {
          "output_type": "stream",
          "name": "stdout",
          "text": [
            "[LibLinear]done in 6799.998s\n",
            "\n",
            "Best score: 0.658\n",
            "Best parameters set:\n",
            "\tclf__C: 1.0\n",
            "\tclf__fit_intercept: True\n",
            "\ttfidf__use_idf: False\n",
            "\tvect__max_df: 0.8\n",
            "\tvect__min_df: 10\n",
            "\tvect__ngram_range: (1, 4)\n",
            "\tvect__preprocessor: <__main__.Preprocessor object at 0x7f2b6e63cad0>\n"
          ]
        }
      ]
    },
    {
      "cell_type": "markdown",
      "metadata": {
        "id": "Tao1gPIMpi0D"
      },
      "source": [
        "#### Resultados"
      ]
    },
    {
      "cell_type": "code",
      "metadata": {
        "colab": {
          "base_uri": "https://localhost:8080/"
        },
        "id": "SJIk-Wf-pi0D",
        "outputId": "59838abb-3983-4946-cae7-77ddf15b08c9"
      },
      "source": [
        "print(best_parameters['vect__preprocessor'].lem)\n",
        "print(best_parameters['vect__preprocessor'].stem)\n",
        "print(best_parameters['vect__preprocessor'].stop)\n",
        "print(best_parameters['vect__preprocessor'].punc)\n",
        "print(best_parameters['vect__preprocessor'].lower)"
      ],
      "execution_count": null,
      "outputs": [
        {
          "output_type": "stream",
          "name": "stdout",
          "text": [
            "False\n",
            "False\n",
            "False\n",
            "False\n",
            "False\n"
          ]
        }
      ]
    },
    {
      "cell_type": "code",
      "metadata": {
        "colab": {
          "base_uri": "https://localhost:8080/",
          "height": 392
        },
        "id": "LAWgrOgjpi0D",
        "outputId": "90860929-1dad-448e-cf3e-d242995fe00d"
      },
      "source": [
        "results_df1 = pd.DataFrame(rand_search1.cv_results_)\n",
        "results_df1 = results_df1.sort_values(by=['rank_test_score'])\n",
        "results_df1 = (\n",
        "    results_df1\n",
        "    .set_index(results_df1[\"params\"].apply(\n",
        "        lambda x: \"_\".join(str(val) for val in x.values()))\n",
        "    )\n",
        "    .rename_axis('kernel')\n",
        ")\n",
        "results_df1[\n",
        "    ['rank_test_score', 'mean_test_score', 'mean_train_score', 'std_test_score']\n",
        "]"
      ],
      "execution_count": null,
      "outputs": [
        {
          "output_type": "execute_result",
          "data": {
            "text/html": [
              "<div>\n",
              "<style scoped>\n",
              "    .dataframe tbody tr th:only-of-type {\n",
              "        vertical-align: middle;\n",
              "    }\n",
              "\n",
              "    .dataframe tbody tr th {\n",
              "        vertical-align: top;\n",
              "    }\n",
              "\n",
              "    .dataframe thead th {\n",
              "        text-align: right;\n",
              "    }\n",
              "</style>\n",
              "<table border=\"1\" class=\"dataframe\">\n",
              "  <thead>\n",
              "    <tr style=\"text-align: right;\">\n",
              "      <th></th>\n",
              "      <th>rank_test_score</th>\n",
              "      <th>mean_test_score</th>\n",
              "      <th>mean_train_score</th>\n",
              "      <th>std_test_score</th>\n",
              "    </tr>\n",
              "    <tr>\n",
              "      <th>kernel</th>\n",
              "      <th></th>\n",
              "      <th></th>\n",
              "      <th></th>\n",
              "      <th></th>\n",
              "    </tr>\n",
              "  </thead>\n",
              "  <tbody>\n",
              "    <tr>\n",
              "      <th>&lt;__main__.Preprocessor object at 0x7f2b736e9dd0&gt;_(1, 4)_10_0.8_False_True_1.0</th>\n",
              "      <td>1</td>\n",
              "      <td>0.658099</td>\n",
              "      <td>0.704793</td>\n",
              "      <td>0.0</td>\n",
              "    </tr>\n",
              "    <tr>\n",
              "      <th>&lt;__main__.Preprocessor object at 0x7f2b736e9dd0&gt;_(1, 2)_1_0.6_True_False_5.0</th>\n",
              "      <td>2</td>\n",
              "      <td>0.635437</td>\n",
              "      <td>0.841970</td>\n",
              "      <td>0.0</td>\n",
              "    </tr>\n",
              "    <tr>\n",
              "      <th>&lt;__main__.Preprocessor object at 0x7f2b7280fb50&gt;_(1, 4)_1_0.6_False_True_1.0</th>\n",
              "      <td>3</td>\n",
              "      <td>0.626481</td>\n",
              "      <td>0.807603</td>\n",
              "      <td>0.0</td>\n",
              "    </tr>\n",
              "    <tr>\n",
              "      <th>&lt;__main__.Preprocessor object at 0x7f2b7280fb50&gt;_(1, 2)_10_0.6_False_True_1.0</th>\n",
              "      <td>4</td>\n",
              "      <td>0.624060</td>\n",
              "      <td>0.652076</td>\n",
              "      <td>0.0</td>\n",
              "    </tr>\n",
              "    <tr>\n",
              "      <th>&lt;__main__.Preprocessor object at 0x7f2b7280fb50&gt;_(1, 3)_10_0.6_False_True_10.0</th>\n",
              "      <td>5</td>\n",
              "      <td>0.622841</td>\n",
              "      <td>0.668936</td>\n",
              "      <td>0.0</td>\n",
              "    </tr>\n",
              "    <tr>\n",
              "      <th>&lt;__main__.Preprocessor object at 0x7f2b83a0bb90&gt;_(1, 4)_10_0.8_True_True_5.0</th>\n",
              "      <td>6</td>\n",
              "      <td>0.621912</td>\n",
              "      <td>0.667710</td>\n",
              "      <td>0.0</td>\n",
              "    </tr>\n",
              "    <tr>\n",
              "      <th>&lt;__main__.Preprocessor object at 0x7f2b7280fb50&gt;_(1, 3)_10_0.8_True_True_10.0</th>\n",
              "      <td>7</td>\n",
              "      <td>0.621184</td>\n",
              "      <td>0.669169</td>\n",
              "      <td>0.0</td>\n",
              "    </tr>\n",
              "    <tr>\n",
              "      <th>&lt;__main__.Preprocessor object at 0x7f2b83a0bfd0&gt;_(1, 3)_100_0.8_False_False_10.0</th>\n",
              "      <td>8</td>\n",
              "      <td>0.590986</td>\n",
              "      <td>0.599826</td>\n",
              "      <td>0.0</td>\n",
              "    </tr>\n",
              "    <tr>\n",
              "      <th>&lt;__main__.Preprocessor object at 0x7f2b7280fb50&gt;_(1, 3)_100_0.6_True_False_1.0</th>\n",
              "      <td>9</td>\n",
              "      <td>0.590094</td>\n",
              "      <td>0.599292</td>\n",
              "      <td>0.0</td>\n",
              "    </tr>\n",
              "    <tr>\n",
              "      <th>&lt;__main__.Preprocessor object at 0x7f2b7280fb50&gt;_(1, 2)_100_0.6_True_False_5.0</th>\n",
              "      <td>10</td>\n",
              "      <td>0.589548</td>\n",
              "      <td>0.598685</td>\n",
              "      <td>0.0</td>\n",
              "    </tr>\n",
              "  </tbody>\n",
              "</table>\n",
              "</div>"
            ],
            "text/plain": [
              "                                                    rank_test_score  ...  std_test_score\n",
              "kernel                                                               ...                \n",
              "<__main__.Preprocessor object at 0x7f2b736e9dd0...                1  ...             0.0\n",
              "<__main__.Preprocessor object at 0x7f2b736e9dd0...                2  ...             0.0\n",
              "<__main__.Preprocessor object at 0x7f2b7280fb50...                3  ...             0.0\n",
              "<__main__.Preprocessor object at 0x7f2b7280fb50...                4  ...             0.0\n",
              "<__main__.Preprocessor object at 0x7f2b7280fb50...                5  ...             0.0\n",
              "<__main__.Preprocessor object at 0x7f2b83a0bb90...                6  ...             0.0\n",
              "<__main__.Preprocessor object at 0x7f2b7280fb50...                7  ...             0.0\n",
              "<__main__.Preprocessor object at 0x7f2b83a0bfd0...                8  ...             0.0\n",
              "<__main__.Preprocessor object at 0x7f2b7280fb50...                9  ...             0.0\n",
              "<__main__.Preprocessor object at 0x7f2b7280fb50...               10  ...             0.0\n",
              "\n",
              "[10 rows x 4 columns]"
            ]
          },
          "metadata": {},
          "execution_count": 65
        }
      ]
    },
    {
      "cell_type": "code",
      "metadata": {
        "colab": {
          "base_uri": "https://localhost:8080/"
        },
        "id": "ltePmJhHpi0E",
        "outputId": "a3fa58b1-3a72-444a-eeae-fcfc89a1a410"
      },
      "source": [
        "for i in range(0,10):\n",
        "  print(i)\n",
        "  print(rand_search1.cv_results_['mean_test_score'][i])\n",
        "  print('lem: ',rand_search1.cv_results_['param_vect__preprocessor'][i].lem)\n",
        "  print('stem: ',rand_search1.cv_results_['param_vect__preprocessor'][i].stem)\n",
        "  print('stop: ',rand_search1.cv_results_['param_vect__preprocessor'][i].stop)\n",
        "  print('punc: ',rand_search1.cv_results_['param_vect__preprocessor'][i].punc)\n",
        "  print('lower: ',rand_search1.cv_results_['param_vect__preprocessor'][i].lower)"
      ],
      "execution_count": null,
      "outputs": [
        {
          "output_type": "stream",
          "name": "stdout",
          "text": [
            "0\n",
            "0.6228407084478584\n",
            "lem:  True\n",
            "stem:  True\n",
            "stop:  True\n",
            "punc:  True\n",
            "lower:  True\n",
            "1\n",
            "0.6264812421500991\n",
            "lem:  True\n",
            "stem:  True\n",
            "stop:  True\n",
            "punc:  True\n",
            "lower:  True\n",
            "2\n",
            "0.6354369550576114\n",
            "lem:  False\n",
            "stem:  False\n",
            "stop:  False\n",
            "punc:  False\n",
            "lower:  False\n",
            "3\n",
            "0.621184265613339\n",
            "lem:  True\n",
            "stem:  True\n",
            "stop:  True\n",
            "punc:  True\n",
            "lower:  True\n",
            "4\n",
            "0.6240602872381091\n",
            "lem:  True\n",
            "stem:  True\n",
            "stop:  True\n",
            "punc:  True\n",
            "lower:  True\n",
            "5\n",
            "0.6580992773540602\n",
            "lem:  False\n",
            "stem:  False\n",
            "stop:  False\n",
            "punc:  False\n",
            "lower:  False\n",
            "6\n",
            "0.621912372353787\n",
            "lem:  True\n",
            "stem:  False\n",
            "stop:  True\n",
            "punc:  True\n",
            "lower:  True\n",
            "7\n",
            "0.5909860385532519\n",
            "lem:  False\n",
            "stem:  True\n",
            "stop:  True\n",
            "punc:  True\n",
            "lower:  True\n",
            "8\n",
            "0.590094107796203\n",
            "lem:  True\n",
            "stem:  True\n",
            "stop:  True\n",
            "punc:  True\n",
            "lower:  True\n",
            "9\n",
            "0.5895480277408668\n",
            "lem:  True\n",
            "stem:  True\n",
            "stop:  True\n",
            "punc:  True\n",
            "lower:  True\n"
          ]
        }
      ]
    },
    {
      "cell_type": "markdown",
      "metadata": {
        "id": "H84srvXPpi0E"
      },
      "source": [
        "Probamos el modelo con el set de validación y calculamos métricas\n",
        "\n",
        "* Precisión o valor predictivo positivo: $\\frac{VP}{VP+FP}$\n",
        "* Recall o sensibilidad: $\\frac{VP}{VP+FN}$\n",
        "* f1-score: $2\\cdot\\frac{precision \\cdot recall}{precision + recall}$\n",
        "* support: total de clasficaciones para esa clase "
      ]
    },
    {
      "cell_type": "code",
      "metadata": {
        "colab": {
          "base_uri": "https://localhost:8080/"
        },
        "id": "ONay3qsOpi0E",
        "outputId": "e58a181b-5488-4d67-80d1-5ea69fff5b2b"
      },
      "source": [
        "y_true, y_pred = y_valid, rand_search1.predict(X_valid)\n",
        "print(classification_report(y_true, y_pred, digits = 4))\n",
        "print()"
      ],
      "execution_count": null,
      "outputs": [
        {
          "output_type": "stream",
          "name": "stdout",
          "text": [
            "               precision    recall  f1-score   support\n",
            "\n",
            "contradiction     0.6671    0.6443    0.6555      3278\n",
            "   entailment     0.6573    0.7143    0.6846      3329\n",
            "      neutral     0.6769    0.6399    0.6579      3235\n",
            "\n",
            "     accuracy                         0.6665      9842\n",
            "    macro avg     0.6671    0.6662    0.6660      9842\n",
            " weighted avg     0.6670    0.6665    0.6661      9842\n",
            "\n",
            "\n"
          ]
        }
      ]
    },
    {
      "cell_type": "code",
      "metadata": {
        "colab": {
          "base_uri": "https://localhost:8080/",
          "height": 143
        },
        "id": "XSViPt2mpi0F",
        "outputId": "324d3713-52ca-4ae7-8324-a2b05140ad7a"
      },
      "source": [
        "pd.DataFrame(confusion_matrix(y_true,y_pred), index = rand_search1.classes_, columns = rand_search1.classes_)"
      ],
      "execution_count": null,
      "outputs": [
        {
          "output_type": "execute_result",
          "data": {
            "text/html": [
              "<div>\n",
              "<style scoped>\n",
              "    .dataframe tbody tr th:only-of-type {\n",
              "        vertical-align: middle;\n",
              "    }\n",
              "\n",
              "    .dataframe tbody tr th {\n",
              "        vertical-align: top;\n",
              "    }\n",
              "\n",
              "    .dataframe thead th {\n",
              "        text-align: right;\n",
              "    }\n",
              "</style>\n",
              "<table border=\"1\" class=\"dataframe\">\n",
              "  <thead>\n",
              "    <tr style=\"text-align: right;\">\n",
              "      <th></th>\n",
              "      <th>contradiction</th>\n",
              "      <th>entailment</th>\n",
              "      <th>neutral</th>\n",
              "    </tr>\n",
              "  </thead>\n",
              "  <tbody>\n",
              "    <tr>\n",
              "      <th>contradiction</th>\n",
              "      <td>2112</td>\n",
              "      <td>615</td>\n",
              "      <td>551</td>\n",
              "    </tr>\n",
              "    <tr>\n",
              "      <th>entailment</th>\n",
              "      <td>514</td>\n",
              "      <td>2378</td>\n",
              "      <td>437</td>\n",
              "    </tr>\n",
              "    <tr>\n",
              "      <th>neutral</th>\n",
              "      <td>540</td>\n",
              "      <td>625</td>\n",
              "      <td>2070</td>\n",
              "    </tr>\n",
              "  </tbody>\n",
              "</table>\n",
              "</div>"
            ],
            "text/plain": [
              "               contradiction  entailment  neutral\n",
              "contradiction           2112         615      551\n",
              "entailment               514        2378      437\n",
              "neutral                  540         625     2070"
            ]
          },
          "metadata": {},
          "execution_count": 69
        }
      ]
    },
    {
      "cell_type": "markdown",
      "metadata": {
        "id": "6JgX1A_qX1QF"
      },
      "source": [
        "#### Hacemos la predicción para test con el mejor modelo de esta Randomized Search\n",
        "**SUBMISSION**: 0.67935"
      ]
    },
    {
      "cell_type": "code",
      "metadata": {
        "id": "5ylVUVaRX_Ek"
      },
      "source": [
        "y_pred = rand_search1.predict(df_test.text)"
      ],
      "execution_count": null,
      "outputs": []
    },
    {
      "cell_type": "code",
      "metadata": {
        "id": "39XU71A5YVph"
      },
      "source": [
        "df_submit=pd.DataFrame(y_pred).rename(columns={0:\"pred_labels\"})"
      ],
      "execution_count": null,
      "outputs": []
    },
    {
      "cell_type": "code",
      "metadata": {
        "id": "i6EEZPs2qWCD"
      },
      "source": [
        "df_submit = df_submit.rename_axis(index=\"pairID\")"
      ],
      "execution_count": null,
      "outputs": []
    },
    {
      "cell_type": "code",
      "metadata": {
        "colab": {
          "base_uri": "https://localhost:8080/",
          "height": 453
        },
        "id": "r4uvMJMdpmdL",
        "outputId": "6eebfadf-8dc7-4a7c-a415-e7a361054ead"
      },
      "source": [
        "df_submit"
      ],
      "execution_count": null,
      "outputs": [
        {
          "output_type": "execute_result",
          "data": {
            "text/html": [
              "<div>\n",
              "<style scoped>\n",
              "    .dataframe tbody tr th:only-of-type {\n",
              "        vertical-align: middle;\n",
              "    }\n",
              "\n",
              "    .dataframe tbody tr th {\n",
              "        vertical-align: top;\n",
              "    }\n",
              "\n",
              "    .dataframe thead th {\n",
              "        text-align: right;\n",
              "    }\n",
              "</style>\n",
              "<table border=\"1\" class=\"dataframe\">\n",
              "  <thead>\n",
              "    <tr style=\"text-align: right;\">\n",
              "      <th></th>\n",
              "      <th>pred_labels</th>\n",
              "    </tr>\n",
              "    <tr>\n",
              "      <th>pairID</th>\n",
              "      <th></th>\n",
              "    </tr>\n",
              "  </thead>\n",
              "  <tbody>\n",
              "    <tr>\n",
              "      <th>0</th>\n",
              "      <td>neutral</td>\n",
              "    </tr>\n",
              "    <tr>\n",
              "      <th>1</th>\n",
              "      <td>neutral</td>\n",
              "    </tr>\n",
              "    <tr>\n",
              "      <th>2</th>\n",
              "      <td>contradiction</td>\n",
              "    </tr>\n",
              "    <tr>\n",
              "      <th>3</th>\n",
              "      <td>entailment</td>\n",
              "    </tr>\n",
              "    <tr>\n",
              "      <th>4</th>\n",
              "      <td>neutral</td>\n",
              "    </tr>\n",
              "    <tr>\n",
              "      <th>...</th>\n",
              "      <td>...</td>\n",
              "    </tr>\n",
              "    <tr>\n",
              "      <th>9819</th>\n",
              "      <td>contradiction</td>\n",
              "    </tr>\n",
              "    <tr>\n",
              "      <th>9820</th>\n",
              "      <td>entailment</td>\n",
              "    </tr>\n",
              "    <tr>\n",
              "      <th>9821</th>\n",
              "      <td>contradiction</td>\n",
              "    </tr>\n",
              "    <tr>\n",
              "      <th>9822</th>\n",
              "      <td>entailment</td>\n",
              "    </tr>\n",
              "    <tr>\n",
              "      <th>9823</th>\n",
              "      <td>neutral</td>\n",
              "    </tr>\n",
              "  </tbody>\n",
              "</table>\n",
              "<p>9824 rows × 1 columns</p>\n",
              "</div>"
            ],
            "text/plain": [
              "          pred_labels\n",
              "pairID               \n",
              "0             neutral\n",
              "1             neutral\n",
              "2       contradiction\n",
              "3          entailment\n",
              "4             neutral\n",
              "...               ...\n",
              "9819    contradiction\n",
              "9820       entailment\n",
              "9821    contradiction\n",
              "9822       entailment\n",
              "9823          neutral\n",
              "\n",
              "[9824 rows x 1 columns]"
            ]
          },
          "metadata": {},
          "execution_count": 119
        }
      ]
    },
    {
      "cell_type": "code",
      "metadata": {
        "id": "Ms3DM3_fq9bQ"
      },
      "source": [
        "df_submit.to_csv(\"submission.csv\")"
      ],
      "execution_count": null,
      "outputs": []
    },
    {
      "cell_type": "code",
      "metadata": {
        "id": "wFDVMzGIaTB6"
      },
      "source": [
        "with open('randsearch2.pck', 'wb') as fp:\n",
        "    pickle.dump(rand_search1, fp)"
      ],
      "execution_count": null,
      "outputs": []
    },
    {
      "cell_type": "markdown",
      "metadata": {
        "id": "GZ_B8uC4Tu3e"
      },
      "source": [
        "### Generamos modelos con los mejores hiperparámetros\n",
        "---\n",
        "Sabiendo los resultados de las Randomized Search probamos algunos modelos."
      ]
    },
    {
      "cell_type": "markdown",
      "metadata": {
        "id": "XFvdQZLSONar"
      },
      "source": [
        "Los modelos que mejor funcionaron:  \n",
        "0.6665\n",
        "\n",
        "Preprocesamiento:\n",
        "\n",
        "* lem: False\n",
        "* stem: False\n",
        "* stop: False\n",
        "* punc: False\n",
        "* lower: False\n",
        "* ngram: (1,4)\n",
        "* min_df: 10\n",
        "* max_df: 0.8\n",
        "* idf: False\n",
        "\n",
        "SVM: \n",
        "\n",
        "* intercept: True\n",
        "* C: 1\n",
        "\n",
        "0.6629\n",
        "\n",
        "Preprocesamiento:\n",
        "\n",
        "* lem: False\n",
        "* stem: False\n",
        "* stop: False\n",
        "* punc: False\n",
        "* lower: False\n",
        "* ngram: (1,3)\n",
        "* min_df: 10\n",
        "* max_df: 0.8\n",
        "* idf: False\n",
        "\n",
        "SVM:\n",
        "\n",
        "* intercept: True\n",
        "* C: 5\n"
      ]
    },
    {
      "cell_type": "markdown",
      "metadata": {
        "id": "_9yUSGMU52n6"
      },
      "source": [
        "#### modelo 1\n",
        "---\n",
        "Usamos los mejores hiperparámetros de la segunda *RandSearch*\n",
        "\n",
        "**SUBMISSION**: 0.66815"
      ]
    },
    {
      "cell_type": "code",
      "metadata": {
        "id": "BjSG2CWTSj7g"
      },
      "source": [
        "txt_clf = Pipeline([\n",
        "    ('vect', CountVectorizer(preprocessor = Preprocessor(lower= False, stop = False, lem=False, punc= False, stem=False),\n",
        "                             min_df = 10, max_df = 0.8, ngram_range = (1,4))),\n",
        "    ('clf', LinearSVC(loss='hinge', penalty='l2', random_state=42,\n",
        "                    max_iter=20000, tol=0.0001, C = 1.0, fit_intercept = True, verbose = True))\n",
        "])"
      ],
      "execution_count": null,
      "outputs": []
    },
    {
      "cell_type": "code",
      "metadata": {
        "colab": {
          "base_uri": "https://localhost:8080/"
        },
        "id": "bCNJpkpLT7I2",
        "outputId": "c2d49e27-0bd4-4514-de42-dcffbbbb99db"
      },
      "source": [
        "txt_clf.fit(X_train, y_train)"
      ],
      "execution_count": null,
      "outputs": [
        {
          "output_type": "stream",
          "name": "stdout",
          "text": [
            "[LibLinear]"
          ]
        },
        {
          "output_type": "stream",
          "name": "stderr",
          "text": [
            "/usr/local/lib/python3.7/dist-packages/sklearn/svm/_base.py:1208: ConvergenceWarning: Liblinear failed to converge, increase the number of iterations.\n",
            "  ConvergenceWarning,\n"
          ]
        },
        {
          "output_type": "execute_result",
          "data": {
            "text/plain": [
              "Pipeline(steps=[('vect',\n",
              "                 CountVectorizer(max_df=0.8, min_df=10, ngram_range=(1, 4),\n",
              "                                 preprocessor=<__main__.Preprocessor object at 0x7f2b70bd3250>)),\n",
              "                ('clf',\n",
              "                 LinearSVC(loss='hinge', max_iter=20000, random_state=42,\n",
              "                           verbose=True))])"
            ]
          },
          "metadata": {},
          "execution_count": 131
        }
      ]
    },
    {
      "cell_type": "code",
      "metadata": {
        "colab": {
          "base_uri": "https://localhost:8080/"
        },
        "id": "CSh9FlpBXWRX",
        "outputId": "24500eec-9e1f-495b-b1ff-eff711dea37d"
      },
      "source": [
        "y_true, y_pred = y_valid, txt_clf.predict(X_valid)\n",
        "print(classification_report(y_true, y_pred, digits = 4))\n",
        "print()"
      ],
      "execution_count": null,
      "outputs": [
        {
          "output_type": "stream",
          "name": "stdout",
          "text": [
            "               precision    recall  f1-score   support\n",
            "\n",
            "contradiction     0.6545    0.6473    0.6509      3278\n",
            "   entailment     0.6500    0.6963    0.6724      3329\n",
            "      neutral     0.6658    0.6244    0.6444      3235\n",
            "\n",
            "     accuracy                         0.6564      9842\n",
            "    macro avg     0.6568    0.6560    0.6559      9842\n",
            " weighted avg     0.6567    0.6564    0.6560      9842\n",
            "\n",
            "\n"
          ]
        }
      ]
    },
    {
      "cell_type": "code",
      "metadata": {
        "colab": {
          "base_uri": "https://localhost:8080/",
          "height": 453
        },
        "id": "R8ane2zScTIr",
        "outputId": "e68a7ded-d370-487b-d699-8f9b7ffcf34b"
      },
      "source": [
        "y_pred = txt_clf.predict(df_test.text)\n",
        "df_submit1=pd.DataFrame(y_pred).rename(columns={0:\"pred_labels\"})\n",
        "df_submit1 = df_submit1.rename_axis(index=\"pairID\")\n",
        "df_submit1"
      ],
      "execution_count": null,
      "outputs": [
        {
          "output_type": "execute_result",
          "data": {
            "text/html": [
              "<div>\n",
              "<style scoped>\n",
              "    .dataframe tbody tr th:only-of-type {\n",
              "        vertical-align: middle;\n",
              "    }\n",
              "\n",
              "    .dataframe tbody tr th {\n",
              "        vertical-align: top;\n",
              "    }\n",
              "\n",
              "    .dataframe thead th {\n",
              "        text-align: right;\n",
              "    }\n",
              "</style>\n",
              "<table border=\"1\" class=\"dataframe\">\n",
              "  <thead>\n",
              "    <tr style=\"text-align: right;\">\n",
              "      <th></th>\n",
              "      <th>pred_labels</th>\n",
              "    </tr>\n",
              "    <tr>\n",
              "      <th>pairID</th>\n",
              "      <th></th>\n",
              "    </tr>\n",
              "  </thead>\n",
              "  <tbody>\n",
              "    <tr>\n",
              "      <th>0</th>\n",
              "      <td>neutral</td>\n",
              "    </tr>\n",
              "    <tr>\n",
              "      <th>1</th>\n",
              "      <td>neutral</td>\n",
              "    </tr>\n",
              "    <tr>\n",
              "      <th>2</th>\n",
              "      <td>contradiction</td>\n",
              "    </tr>\n",
              "    <tr>\n",
              "      <th>3</th>\n",
              "      <td>neutral</td>\n",
              "    </tr>\n",
              "    <tr>\n",
              "      <th>4</th>\n",
              "      <td>neutral</td>\n",
              "    </tr>\n",
              "    <tr>\n",
              "      <th>...</th>\n",
              "      <td>...</td>\n",
              "    </tr>\n",
              "    <tr>\n",
              "      <th>9819</th>\n",
              "      <td>contradiction</td>\n",
              "    </tr>\n",
              "    <tr>\n",
              "      <th>9820</th>\n",
              "      <td>entailment</td>\n",
              "    </tr>\n",
              "    <tr>\n",
              "      <th>9821</th>\n",
              "      <td>contradiction</td>\n",
              "    </tr>\n",
              "    <tr>\n",
              "      <th>9822</th>\n",
              "      <td>neutral</td>\n",
              "    </tr>\n",
              "    <tr>\n",
              "      <th>9823</th>\n",
              "      <td>neutral</td>\n",
              "    </tr>\n",
              "  </tbody>\n",
              "</table>\n",
              "<p>9824 rows × 1 columns</p>\n",
              "</div>"
            ],
            "text/plain": [
              "          pred_labels\n",
              "pairID               \n",
              "0             neutral\n",
              "1             neutral\n",
              "2       contradiction\n",
              "3             neutral\n",
              "4             neutral\n",
              "...               ...\n",
              "9819    contradiction\n",
              "9820       entailment\n",
              "9821    contradiction\n",
              "9822          neutral\n",
              "9823          neutral\n",
              "\n",
              "[9824 rows x 1 columns]"
            ]
          },
          "metadata": {},
          "execution_count": 138
        }
      ]
    },
    {
      "cell_type": "code",
      "metadata": {
        "id": "sfojkcq7cTIy"
      },
      "source": [
        "df_submit1.to_csv(\"submission1.csv\")"
      ],
      "execution_count": null,
      "outputs": []
    },
    {
      "cell_type": "markdown",
      "metadata": {
        "id": "n5KwnLjB6A84"
      },
      "source": [
        "#### modelo 2\n",
        "---\n",
        "**SUBMISSION**: 0.65675\n",
        "Usamos los mejores hiperparámetros de la primera RandSearch"
      ]
    },
    {
      "cell_type": "code",
      "metadata": {
        "id": "DS29UWxBbvqo"
      },
      "source": [
        "# Definimos un a pipeline combinando el extractor de características y el clasificador\n",
        "#CV + TFIDF + MLP\n",
        "txt_clf2 = Pipeline([\n",
        "    ('vect', CountVectorizer(preprocessor = Preprocessor(lower= False, stop = False, lem=False, punc= False, stem=False),\n",
        "                             min_df = 10, max_df = 0.8, ngram_range= (1,3))),\n",
        "    ('clf', LinearSVC(loss='hinge', penalty='l2', random_state=42,\n",
        "                    max_iter=20000, tol=0.0001, C = 5.0, fit_intercept = True, verbose = True))\n",
        "])"
      ],
      "execution_count": null,
      "outputs": []
    },
    {
      "cell_type": "code",
      "metadata": {
        "colab": {
          "base_uri": "https://localhost:8080/"
        },
        "id": "bSS5HkpMcQr0",
        "outputId": "04be2e5d-f157-4afe-926c-19adb185b67b"
      },
      "source": [
        "txt_clf2.fit(X_train, y_train)"
      ],
      "execution_count": null,
      "outputs": [
        {
          "output_type": "stream",
          "name": "stdout",
          "text": [
            "[LibLinear]"
          ]
        },
        {
          "output_type": "stream",
          "name": "stderr",
          "text": [
            "/usr/local/lib/python3.7/dist-packages/sklearn/svm/_base.py:1208: ConvergenceWarning: Liblinear failed to converge, increase the number of iterations.\n",
            "  ConvergenceWarning,\n"
          ]
        },
        {
          "output_type": "execute_result",
          "data": {
            "text/plain": [
              "Pipeline(steps=[('vect',\n",
              "                 CountVectorizer(max_df=0.8, min_df=10, ngram_range=(1, 3),\n",
              "                                 preprocessor=<__main__.Preprocessor object at 0x7f2b6094efd0>)),\n",
              "                ('clf',\n",
              "                 LinearSVC(C=5.0, loss='hinge', max_iter=20000, random_state=42,\n",
              "                           verbose=True))])"
            ]
          },
          "metadata": {},
          "execution_count": 134
        }
      ]
    },
    {
      "cell_type": "code",
      "metadata": {
        "colab": {
          "base_uri": "https://localhost:8080/"
        },
        "id": "wOZRb-SmfzC_",
        "outputId": "1d32a35e-61d5-42ec-d850-73af3154d279"
      },
      "source": [
        "y_true, y_pred = y_valid, txt_clf2.predict(X_valid)\n",
        "print(classification_report(y_true, y_pred, digits = 4))\n",
        "print()"
      ],
      "execution_count": null,
      "outputs": [
        {
          "output_type": "stream",
          "name": "stdout",
          "text": [
            "               precision    recall  f1-score   support\n",
            "\n",
            "contradiction     0.6474    0.6464    0.6469      3278\n",
            "   entailment     0.6500    0.6918    0.6703      3329\n",
            "      neutral     0.6649    0.6219    0.6427      3235\n",
            "\n",
            "     accuracy                         0.6537      9842\n",
            "    macro avg     0.6541    0.6534    0.6533      9842\n",
            " weighted avg     0.6540    0.6537    0.6534      9842\n",
            "\n",
            "\n"
          ]
        }
      ]
    },
    {
      "cell_type": "code",
      "metadata": {
        "colab": {
          "base_uri": "https://localhost:8080/",
          "height": 453
        },
        "id": "mMlPOOvCck_c",
        "outputId": "d4e74212-92ef-4db7-d84c-b56c47e9ca76"
      },
      "source": [
        "y_pred = txt_clf2.predict(df_test.text)\n",
        "df_submit2=pd.DataFrame(y_pred).rename(columns={0:\"pred_labels\"})\n",
        "df_submit2 = df_submit2.rename_axis(index=\"pairID\")\n",
        "df_submit2"
      ],
      "execution_count": null,
      "outputs": [
        {
          "output_type": "execute_result",
          "data": {
            "text/html": [
              "<div>\n",
              "<style scoped>\n",
              "    .dataframe tbody tr th:only-of-type {\n",
              "        vertical-align: middle;\n",
              "    }\n",
              "\n",
              "    .dataframe tbody tr th {\n",
              "        vertical-align: top;\n",
              "    }\n",
              "\n",
              "    .dataframe thead th {\n",
              "        text-align: right;\n",
              "    }\n",
              "</style>\n",
              "<table border=\"1\" class=\"dataframe\">\n",
              "  <thead>\n",
              "    <tr style=\"text-align: right;\">\n",
              "      <th></th>\n",
              "      <th>pred_labels</th>\n",
              "    </tr>\n",
              "    <tr>\n",
              "      <th>pairID</th>\n",
              "      <th></th>\n",
              "    </tr>\n",
              "  </thead>\n",
              "  <tbody>\n",
              "    <tr>\n",
              "      <th>0</th>\n",
              "      <td>neutral</td>\n",
              "    </tr>\n",
              "    <tr>\n",
              "      <th>1</th>\n",
              "      <td>neutral</td>\n",
              "    </tr>\n",
              "    <tr>\n",
              "      <th>2</th>\n",
              "      <td>contradiction</td>\n",
              "    </tr>\n",
              "    <tr>\n",
              "      <th>3</th>\n",
              "      <td>neutral</td>\n",
              "    </tr>\n",
              "    <tr>\n",
              "      <th>4</th>\n",
              "      <td>neutral</td>\n",
              "    </tr>\n",
              "    <tr>\n",
              "      <th>...</th>\n",
              "      <td>...</td>\n",
              "    </tr>\n",
              "    <tr>\n",
              "      <th>9819</th>\n",
              "      <td>contradiction</td>\n",
              "    </tr>\n",
              "    <tr>\n",
              "      <th>9820</th>\n",
              "      <td>entailment</td>\n",
              "    </tr>\n",
              "    <tr>\n",
              "      <th>9821</th>\n",
              "      <td>contradiction</td>\n",
              "    </tr>\n",
              "    <tr>\n",
              "      <th>9822</th>\n",
              "      <td>neutral</td>\n",
              "    </tr>\n",
              "    <tr>\n",
              "      <th>9823</th>\n",
              "      <td>neutral</td>\n",
              "    </tr>\n",
              "  </tbody>\n",
              "</table>\n",
              "<p>9824 rows × 1 columns</p>\n",
              "</div>"
            ],
            "text/plain": [
              "          pred_labels\n",
              "pairID               \n",
              "0             neutral\n",
              "1             neutral\n",
              "2       contradiction\n",
              "3             neutral\n",
              "4             neutral\n",
              "...               ...\n",
              "9819    contradiction\n",
              "9820       entailment\n",
              "9821    contradiction\n",
              "9822          neutral\n",
              "9823          neutral\n",
              "\n",
              "[9824 rows x 1 columns]"
            ]
          },
          "metadata": {},
          "execution_count": 141
        }
      ]
    },
    {
      "cell_type": "code",
      "metadata": {
        "id": "CkCWR4JZck_c"
      },
      "source": [
        "df_submit2.to_csv(\"submission2.csv\")"
      ],
      "execution_count": null,
      "outputs": []
    },
    {
      "cell_type": "markdown",
      "metadata": {
        "id": "T1JaXfLA5yrv"
      },
      "source": [
        "#### modelo 3\n",
        "---\n",
        "Probamos con un preprocesamiento completo pero sin stopwords\n",
        "\n",
        "**SUBMISSION**: 0.66714"
      ]
    },
    {
      "cell_type": "code",
      "metadata": {
        "id": "hhDeuxhA3-ZF"
      },
      "source": [
        "txt_clf3 = Pipeline([\n",
        "    ('vect', CountVectorizer( preprocessor= Preprocessor(lower= True, stop = False, lem=True, punc= True, stem=True),\n",
        "                             min_df = 10, max_df = 0.8, ngram_range = (1,4))),\n",
        "    ('tfidf', TfidfTransformer()),\n",
        "    ('clf', LinearSVC(loss='hinge', penalty='l2', random_state=42,\n",
        "                    max_iter=20000, tol=0.0001, C = 5.0, fit_intercept = True, verbose = True))\n",
        "])"
      ],
      "execution_count": null,
      "outputs": []
    },
    {
      "cell_type": "code",
      "metadata": {
        "colab": {
          "base_uri": "https://localhost:8080/"
        },
        "id": "Lo3Y0GEU4T_B",
        "outputId": "cff9dc16-c411-49f2-8883-8a7ae0529e77"
      },
      "source": [
        "txt_clf3.fit(X_train, y_train)"
      ],
      "execution_count": null,
      "outputs": [
        {
          "output_type": "stream",
          "name": "stdout",
          "text": [
            "[LibLinear]"
          ]
        },
        {
          "output_type": "stream",
          "name": "stderr",
          "text": [
            "/usr/local/lib/python3.7/dist-packages/sklearn/svm/_base.py:1208: ConvergenceWarning: Liblinear failed to converge, increase the number of iterations.\n",
            "  ConvergenceWarning,\n"
          ]
        },
        {
          "output_type": "execute_result",
          "data": {
            "text/plain": [
              "Pipeline(steps=[('vect',\n",
              "                 CountVectorizer(max_df=0.8, min_df=10, ngram_range=(1, 4),\n",
              "                                 preprocessor=<__main__.Preprocessor object at 0x7f2b70bba910>)),\n",
              "                ('tfidf', TfidfTransformer()),\n",
              "                ('clf',\n",
              "                 LinearSVC(C=5.0, loss='hinge', max_iter=20000, random_state=42,\n",
              "                           verbose=True))])"
            ]
          },
          "metadata": {},
          "execution_count": 128
        }
      ]
    },
    {
      "cell_type": "code",
      "metadata": {
        "colab": {
          "base_uri": "https://localhost:8080/"
        },
        "id": "CJVIseOn79ux",
        "outputId": "99b67dde-5bc4-4601-8307-378febe9c73f"
      },
      "source": [
        "y_true, y_pred = y_valid, txt_clf3.predict(X_valid)\n",
        "print(classification_report(y_true, y_pred, digits = 4))\n",
        "print()"
      ],
      "execution_count": null,
      "outputs": [
        {
          "output_type": "stream",
          "name": "stdout",
          "text": [
            "               precision    recall  f1-score   support\n",
            "\n",
            "contradiction     0.6600    0.6675    0.6637      3278\n",
            "   entailment     0.6683    0.6960    0.6819      3329\n",
            "      neutral     0.6755    0.6389    0.6567      3235\n",
            "\n",
            "     accuracy                         0.6678      9842\n",
            "    macro avg     0.6679    0.6675    0.6674      9842\n",
            " weighted avg     0.6679    0.6678    0.6676      9842\n",
            "\n",
            "\n"
          ]
        }
      ]
    },
    {
      "cell_type": "code",
      "metadata": {
        "colab": {
          "base_uri": "https://localhost:8080/",
          "height": 453
        },
        "id": "x6VuuqZNb0JW",
        "outputId": "bf3be538-aaa8-449a-8d4f-26140f9c0d90"
      },
      "source": [
        "y_pred = txt_clf3.predict(df_test.text)\n",
        "df_submit3=pd.DataFrame(y_pred).rename(columns={0:\"pred_labels\"})\n",
        "df_submit3 = df_submit3.rename_axis(index=\"pairID\")\n",
        "df_submit3"
      ],
      "execution_count": null,
      "outputs": [
        {
          "output_type": "execute_result",
          "data": {
            "text/html": [
              "<div>\n",
              "<style scoped>\n",
              "    .dataframe tbody tr th:only-of-type {\n",
              "        vertical-align: middle;\n",
              "    }\n",
              "\n",
              "    .dataframe tbody tr th {\n",
              "        vertical-align: top;\n",
              "    }\n",
              "\n",
              "    .dataframe thead th {\n",
              "        text-align: right;\n",
              "    }\n",
              "</style>\n",
              "<table border=\"1\" class=\"dataframe\">\n",
              "  <thead>\n",
              "    <tr style=\"text-align: right;\">\n",
              "      <th></th>\n",
              "      <th>pred_labels</th>\n",
              "    </tr>\n",
              "    <tr>\n",
              "      <th>pairID</th>\n",
              "      <th></th>\n",
              "    </tr>\n",
              "  </thead>\n",
              "  <tbody>\n",
              "    <tr>\n",
              "      <th>0</th>\n",
              "      <td>neutral</td>\n",
              "    </tr>\n",
              "    <tr>\n",
              "      <th>1</th>\n",
              "      <td>neutral</td>\n",
              "    </tr>\n",
              "    <tr>\n",
              "      <th>2</th>\n",
              "      <td>contradiction</td>\n",
              "    </tr>\n",
              "    <tr>\n",
              "      <th>3</th>\n",
              "      <td>contradiction</td>\n",
              "    </tr>\n",
              "    <tr>\n",
              "      <th>4</th>\n",
              "      <td>neutral</td>\n",
              "    </tr>\n",
              "    <tr>\n",
              "      <th>...</th>\n",
              "      <td>...</td>\n",
              "    </tr>\n",
              "    <tr>\n",
              "      <th>9819</th>\n",
              "      <td>contradiction</td>\n",
              "    </tr>\n",
              "    <tr>\n",
              "      <th>9820</th>\n",
              "      <td>entailment</td>\n",
              "    </tr>\n",
              "    <tr>\n",
              "      <th>9821</th>\n",
              "      <td>contradiction</td>\n",
              "    </tr>\n",
              "    <tr>\n",
              "      <th>9822</th>\n",
              "      <td>entailment</td>\n",
              "    </tr>\n",
              "    <tr>\n",
              "      <th>9823</th>\n",
              "      <td>neutral</td>\n",
              "    </tr>\n",
              "  </tbody>\n",
              "</table>\n",
              "<p>9824 rows × 1 columns</p>\n",
              "</div>"
            ],
            "text/plain": [
              "          pred_labels\n",
              "pairID               \n",
              "0             neutral\n",
              "1             neutral\n",
              "2       contradiction\n",
              "3       contradiction\n",
              "4             neutral\n",
              "...               ...\n",
              "9819    contradiction\n",
              "9820       entailment\n",
              "9821    contradiction\n",
              "9822       entailment\n",
              "9823          neutral\n",
              "\n",
              "[9824 rows x 1 columns]"
            ]
          },
          "metadata": {},
          "execution_count": 136
        }
      ]
    },
    {
      "cell_type": "code",
      "metadata": {
        "id": "9YZiPIF-b0JZ"
      },
      "source": [
        "df_submit3.to_csv(\"submission3.csv\")"
      ],
      "execution_count": null,
      "outputs": []
    }
  ]
}